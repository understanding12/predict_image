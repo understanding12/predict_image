{
  "cells": [
    {
      "cell_type": "markdown",
      "id": "eb199a05",
      "metadata": {
        "id": "eb199a05"
      },
      "source": [
        "# Подготовка модели распознавания рукописных букв и цифр\n",
        "\n",
        "Вам предстоит самостоятельно обучить модель для задачи распознавания рукописных букв и цифр с помощью датасета `emnist`. Результатом должна быть обученная модель, сохранённая в файл `model.pkl`.\n",
        "\n",
        "Можете воспользоваться предложенным порядком действий и подсказками из этого ноутбука или подойти к решению задачи самостоятельно и написать всё с нуля. То же касается и процесса упаковки модели в сервис для распознавания самостоятельно написанных символов.\n",
        "\n",
        "В этом ноутбуке комментариями и символами `...` отмечены места для вашего кода.\n",
        "\n",
        "Перед отправкой решения убедитесь, что все ячейки ноутбука выполняются последовательно без ошибок, если запустить `Kernel -> Restart & Run All`.\n",
        "\n",
        "Успехов!\n",
        "\n",
        "### 1. Установите и импортируйте необходимые библиотеки"
      ]
    },
    {
      "cell_type": "code",
      "execution_count": null,
      "id": "9abed783",
      "metadata": {
        "scrolled": true,
        "id": "9abed783"
      },
      "outputs": [],
      "source": [
        "!pip install emnist\n",
        "# your pip installs here"
      ]
    },
    {
      "cell_type": "code",
      "execution_count": null,
      "id": "99ac860b",
      "metadata": {
        "id": "99ac860b"
      },
      "outputs": [],
      "source": [
        "import os\n",
        "import pickle\n",
        "import emnist\n",
        "# your imports here"
      ]
    },
    {
      "cell_type": "markdown",
      "id": "dcf2e1da",
      "metadata": {
        "id": "dcf2e1da"
      },
      "source": [
        "### 2. Загрузите датасет и проанализируйте его\n",
        "\n",
        "Датасет в качестве лейблов (или таргетов) содержит числа от 0 до 46. Каждому числу соответствует ASCII-код некоторого символа. Пары «лейбл — код» хранятся в файле `emnist-balanced-mapping.txt`.\n",
        "Выведите на экран количество семплов в каждом сплите датасета и размер изображений. Также для каждого лейбла выведите соответствующий ему символ и количество тренировочных семплов, приходящееся на него.\n",
        "Посмотрите на несколько примеров изображений.\n",
        "\n",
        "_Подсказка: чтобы получить символ из ASCII-кода, нужно воспользоваться функцией_ `chr()`. _Для вашего удобства можно построить словарь_ (`dict`) _соответствий._"
      ]
    },
    {
      "cell_type": "code",
      "execution_count": null,
      "id": "cb5035ba",
      "metadata": {
        "id": "cb5035ba"
      },
      "outputs": [],
      "source": [
        "images_train, labels_train = emnist.extract_training_samples('balanced')\n",
        "images_test, labels_test = emnist.extract_test_samples('balanced')\n",
        "print(f'Train: {...} samples')\n",
        "print(f'Test: {...} samples')\n",
        "print(f'Image size: {...}')"
      ]
    },
    {
      "cell_type": "code",
      "execution_count": null,
      "id": "ec1c7a6d",
      "metadata": {
        "id": "ec1c7a6d"
      },
      "outputs": [],
      "source": [
        "# your code here"
      ]
    },
    {
      "cell_type": "markdown",
      "id": "44aa75fc",
      "metadata": {
        "id": "44aa75fc"
      },
      "source": [
        "### 3. Подготовьте датасет для обучения и валидации\n",
        "\n",
        "_Подсказка: чтобы вытянуть изображения в вектор, понадобится метод_ `reshape` _из библиотеки_ `numpy`."
      ]
    },
    {
      "cell_type": "code",
      "execution_count": null,
      "id": "59e4e4e1",
      "metadata": {
        "id": "59e4e4e1"
      },
      "outputs": [],
      "source": [
        "X_train = ...\n",
        "y_train = ...\n",
        "X_test = ...\n",
        "y_test = ...\n",
        "\n",
        "print('Train:', X_train.shape)\n",
        "print('Test:', X_test.shape)"
      ]
    },
    {
      "cell_type": "markdown",
      "id": "018140da",
      "metadata": {
        "id": "018140da"
      },
      "source": [
        "### 4. Выберите модель, обучите её, протестируйте и сохраните\n",
        "\n",
        "Выведите на экран точность вашей модели. Выведите и проанализируйте матрицу ошибок. Какие два символа она чаще всего путает? На каком символе модель чаще всего ошибается?"
      ]
    },
    {
      "cell_type": "code",
      "execution_count": null,
      "id": "6a0e5239",
      "metadata": {
        "id": "6a0e5239"
      },
      "outputs": [],
      "source": [
        "clf = ...\n",
        "# your code here"
      ]
    },
    {
      "cell_type": "code",
      "execution_count": null,
      "id": "e66ef38a",
      "metadata": {
        "id": "e66ef38a"
      },
      "outputs": [],
      "source": [
        "with open(os.path.join('myapp', 'model.pkl'),'wb') as f:\n",
        "    pickle.dump(clf, f)"
      ]
    }
  ],
  "metadata": {
    "kernelspec": {
      "display_name": "Python 3 (ipykernel)",
      "language": "python",
      "name": "python3"
    },
    "language_info": {
      "codemirror_mode": {
        "name": "ipython",
        "version": 3
      },
      "file_extension": ".py",
      "mimetype": "text/x-python",
      "name": "python",
      "nbconvert_exporter": "python",
      "pygments_lexer": "ipython3",
      "version": "3.11.5"
    },
    "colab": {
      "provenance": []
    }
  },
  "nbformat": 4,
  "nbformat_minor": 5
}